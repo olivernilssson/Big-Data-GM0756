{
 "cells": [
  {
   "cell_type": "markdown",
   "metadata": {},
   "source": [
    "# Exercises Hand-In 1\n",
    "## Exercise 10\n",
    "## Group 30 (Oliver Nilsson)"
   ]
  },
  {
   "cell_type": "code",
   "execution_count": 11,
   "metadata": {},
   "outputs": [
    {
     "name": "stdout",
     "output_type": "stream",
     "text": [
      "Pandas version: 1.5.3\n",
      "Requests version: 2.31.0\n",
      "BeautifulSoup version: 4.12.3\n",
      "Regular Expression version: 2.2.1\n"
     ]
    }
   ],
   "source": [
    "# Import required libraries\n",
    "import pandas as pd\n",
    "import requests as req\n",
    "import bs4\n",
    "import re\n",
    "\n",
    "# Print the versions of the libraries to check if they are installed correctly\n",
    "print(f\"Pandas version: {pd.__version__}\")\n",
    "print(f\"Requests version: {req.__version__}\")\n",
    "print (f\"BeautifulSoup version: {bs4.__version__}\")\n",
    "print(f\"Regular Expression version: {re.__version__}\")"
   ]
  },
  {
   "cell_type": "markdown",
   "metadata": {},
   "source": [
    "## 1. Wikipedia scraping"
   ]
  },
  {
   "cell_type": "code",
   "execution_count": 63,
   "metadata": {},
   "outputs": [
    {
     "name": "stdout",
     "output_type": "stream",
     "text": [
      "Response code: 200\n"
     ]
    }
   ],
   "source": [
    "# Define the base address and the start address\n",
    "base_address = 'https://en.wikipedia.org/'\n",
    "start_address = base_address + 'wiki/Programming_languages_used_in_most_popular_websites'\n",
    "\n",
    "# Test response, should return 200 if request was successful\n",
    "# Use try-except to catch any errors and prevent the script from crashing\n",
    "try:\n",
    "    response = req.get(start_address)\n",
    "    response.raise_for_status()\n",
    "    print(f\"Response code: {response.status_code}\")\n",
    "except req.exceptions.HTTPError as err:\n",
    "    print(err)"
   ]
  },
  {
   "cell_type": "code",
   "execution_count": 80,
   "metadata": {},
   "outputs": [
    {
     "name": "stdout",
     "output_type": "stream",
     "text": [
      "Headers:\n",
      " \n",
      "Websites\n",
      "\n",
      "Popularity(unique visitors per month)[1]\n",
      "\n",
      "Front-end(Client-side)\n",
      "\n",
      "Back-end(Server-side)\n",
      "\n",
      "Database\n",
      "\n",
      "Notes\n",
      "\n"
     ]
    }
   ],
   "source": [
    "# Parse the response with BeautifulSoup\n",
    "soup = bs4.BeautifulSoup(response.text, 'lxml')\n",
    "\n",
    "# Find the table with the programming languages for most popular websites\n",
    "table = soup.find('table', {'class': 'wikitable sortable'})\n",
    "# Find all the rows in the table\n",
    "full_table = table.find_all('tr')\n",
    "# Print the headers to check if the table was found\n",
    "print(f\"Headers:\\n {full_table[0].text}\")"
   ]
  },
  {
   "cell_type": "code",
   "execution_count": 65,
   "metadata": {},
   "outputs": [
    {
     "data": {
      "text/html": [
       "<div>\n",
       "<style scoped>\n",
       "    .dataframe tbody tr th:only-of-type {\n",
       "        vertical-align: middle;\n",
       "    }\n",
       "\n",
       "    .dataframe tbody tr th {\n",
       "        vertical-align: top;\n",
       "    }\n",
       "\n",
       "    .dataframe thead th {\n",
       "        text-align: right;\n",
       "    }\n",
       "</style>\n",
       "<table border=\"1\" class=\"dataframe\">\n",
       "  <thead>\n",
       "    <tr style=\"text-align: right;\">\n",
       "      <th></th>\n",
       "      <th>Websites</th>\n",
       "      <th>Popularity(unique visitors per month)</th>\n",
       "      <th>Front-end(Client-side)</th>\n",
       "      <th>Back-end(Server-side)</th>\n",
       "      <th>Database</th>\n",
       "      <th>Notes</th>\n",
       "    </tr>\n",
       "  </thead>\n",
       "  <tbody>\n",
       "    <tr>\n",
       "      <th>0</th>\n",
       "      <td>Google</td>\n",
       "      <td>2800000000</td>\n",
       "      <td>JavaScript, TypeScript</td>\n",
       "      <td>C, C++, Go, Java, Python, Node</td>\n",
       "      <td>Bigtable, MariaDB</td>\n",
       "      <td>The most used search engine in the world.</td>\n",
       "    </tr>\n",
       "    <tr>\n",
       "      <th>1</th>\n",
       "      <td>Facebook</td>\n",
       "      <td>1120000000</td>\n",
       "      <td>JavaScript, Typescript, Flow</td>\n",
       "      <td>Hack/HHVM, Python, C++, Java, Erlang, D, Haskell</td>\n",
       "      <td>MariaDB, MySQL, HBase,  Cassandra</td>\n",
       "      <td>The most visited social networking site.</td>\n",
       "    </tr>\n",
       "    <tr>\n",
       "      <th>2</th>\n",
       "      <td>YouTube</td>\n",
       "      <td>1100000000</td>\n",
       "      <td>JavaScript, TypeScript</td>\n",
       "      <td>Python, C, C++, Java, Go</td>\n",
       "      <td>Vitess, BigTable, MariaDB</td>\n",
       "      <td>The most popular video sharing site.</td>\n",
       "    </tr>\n",
       "    <tr>\n",
       "      <th>3</th>\n",
       "      <td>Yahoo</td>\n",
       "      <td>750000000</td>\n",
       "      <td>JavaScript</td>\n",
       "      <td>PHP</td>\n",
       "      <td>PostgreSQL, HBase,  Cassandra, MongoDB,</td>\n",
       "      <td>None</td>\n",
       "    </tr>\n",
       "    <tr>\n",
       "      <th>4</th>\n",
       "      <td>Etsy</td>\n",
       "      <td>516000000</td>\n",
       "      <td>JavaScript</td>\n",
       "      <td>PHP</td>\n",
       "      <td>MySQL, Redis</td>\n",
       "      <td>E-commerce website.</td>\n",
       "    </tr>\n",
       "  </tbody>\n",
       "</table>\n",
       "</div>"
      ],
      "text/plain": [
       "   Websites  Popularity(unique visitors per month)  \\\n",
       "0    Google                             2800000000   \n",
       "1  Facebook                             1120000000   \n",
       "2   YouTube                             1100000000   \n",
       "3     Yahoo                              750000000   \n",
       "4      Etsy                              516000000   \n",
       "\n",
       "         Front-end(Client-side)  \\\n",
       "0        JavaScript, TypeScript   \n",
       "1  JavaScript, Typescript, Flow   \n",
       "2        JavaScript, TypeScript   \n",
       "3                    JavaScript   \n",
       "4                    JavaScript   \n",
       "\n",
       "                              Back-end(Server-side)  \\\n",
       "0                    C, C++, Go, Java, Python, Node   \n",
       "1  Hack/HHVM, Python, C++, Java, Erlang, D, Haskell   \n",
       "2                          Python, C, C++, Java, Go   \n",
       "3                                               PHP   \n",
       "4                                               PHP   \n",
       "\n",
       "                                  Database  \\\n",
       "0                        Bigtable, MariaDB   \n",
       "1        MariaDB, MySQL, HBase,  Cassandra   \n",
       "2                Vitess, BigTable, MariaDB   \n",
       "3  PostgreSQL, HBase,  Cassandra, MongoDB,   \n",
       "4                             MySQL, Redis   \n",
       "\n",
       "                                       Notes  \n",
       "0  The most used search engine in the world.  \n",
       "1   The most visited social networking site.  \n",
       "2       The most popular video sharing site.  \n",
       "3                                       None  \n",
       "4                        E-commerce website.  "
      ]
     },
     "execution_count": 65,
     "metadata": {},
     "output_type": "execute_result"
    }
   ],
   "source": [
    "headers = [re.sub(r'\\[.*?\\]', '', header) for header in full_table[0].text.split('\\n') if header]\n",
    "data = []\n",
    "\n",
    "for row in full_table[1:]:\n",
    "    hidden_texts = [element.text for element in row.find_all('span', {'style': 'display:none'})]\n",
    "    row_text = row.text\n",
    "    pattern = '|'.join(map(re.escape, hidden_texts))\n",
    "    row_text = re.sub(pattern, '', row_text).strip()\n",
    "    row_data = [re.sub(r'\\[.*?\\]', '', value) for value in row_text.split('\\n') if value]\n",
    "\n",
    "    if row_data[1][0].isdigit():\n",
    "        value = ''.join(filter(str.isdigit, row_data[1].split(' ')[0]))\n",
    "        if value.isdigit():\n",
    "            row_data[1] = int(value)\n",
    "\n",
    "    data.append(row_data)\n",
    "\n",
    "df = pd.DataFrame(data, columns=headers)\n",
    "df.head()"
   ]
  },
  {
   "cell_type": "code",
   "execution_count": 79,
   "metadata": {},
   "outputs": [
    {
     "name": "stdout",
     "output_type": "stream",
     "text": [
      "Data saved to Excel file:\n",
      "Programming languages used in most popular websites - Wikipedia -> programming_languages.xlsx\n"
     ]
    }
   ],
   "source": [
    "# Save the data to a Excel file\n",
    "try:\n",
    "    df.to_excel('programming_languages.xlsx', index=False)\n",
    "    print(f\"Data saved to Excel file:\\n{soup.title.text} -> programming_languages.xlsx\")\n",
    "except Exception as e:\n",
    "    print(f\"Error saving data to Excel file: {e}\")"
   ]
  }
 ],
 "metadata": {
  "kernelspec": {
   "display_name": "islp",
   "language": "python",
   "name": "python3"
  },
  "language_info": {
   "codemirror_mode": {
    "name": "ipython",
    "version": 3
   },
   "file_extension": ".py",
   "mimetype": "text/x-python",
   "name": "python",
   "nbconvert_exporter": "python",
   "pygments_lexer": "ipython3",
   "version": "3.11.7"
  }
 },
 "nbformat": 4,
 "nbformat_minor": 2
}
