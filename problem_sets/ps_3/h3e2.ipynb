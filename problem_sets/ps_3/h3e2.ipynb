{
 "cells": [
  {
   "cell_type": "markdown",
   "metadata": {},
   "source": [
    "# Exercises Hand-In 3 e2\n",
    "## Group 30 (Oliver Nilsson)"
   ]
  },
  {
   "cell_type": "code",
   "execution_count": 6,
   "metadata": {},
   "outputs": [
    {
     "name": "stdout",
     "output_type": "stream",
     "text": [
      "Pandas version: 2.2.2\n",
      "Sklearn version: 1.4.2\n",
      "NLTK version: 3.8.1\n",
      "Re version: 2.2.1\n",
      "Torch version: 2.3.0+cu121\n",
      "Matplotlib version: 3.9.0\n"
     ]
    }
   ],
   "source": [
    "# Import required libraries\n",
    "import pandas as pd\n",
    "import sklearn\n",
    "from sklearn.model_selection import train_test_split\n",
    "from sklearn.feature_extraction.text import TfidfVectorizer\n",
    "from sklearn.metrics import roc_curve\n",
    "from sklearn.metrics import roc_auc_score\n",
    "import torch\n",
    "from torch import cuda\n",
    "import matplotlib.pyplot as plt\n",
    "import nltk\n",
    "from nltk.stem.snowball import SnowballStemmer\n",
    "import re\n",
    "\n",
    "# Print the versions of the libraries to check if they are installed correctly\n",
    "print(f\"Pandas version: {pd.__version__}\")\n",
    "print(f\"Sklearn version: {sklearn.__version__}\")\n",
    "print(f\"NLTK version: {nltk.__version__}\")\n",
    "print(f\"Re version: {re.__version__}\")\n",
    "print(f\"Torch version: {torch.__version__}\")\n",
    "print(f\"Matplotlib version: {plt.matplotlib.__version__}\")"
   ]
  },
  {
   "cell_type": "code",
   "execution_count": null,
   "metadata": {},
   "outputs": [],
   "source": [
    "# Test if GPU is available\n",
    "torch.cuda.get_device_name(0)"
   ]
  },
  {
   "cell_type": "code",
   "execution_count": 2,
   "metadata": {},
   "outputs": [
    {
     "data": {
      "text/html": [
       "<div>\n",
       "<style scoped>\n",
       "    .dataframe tbody tr th:only-of-type {\n",
       "        vertical-align: middle;\n",
       "    }\n",
       "\n",
       "    .dataframe tbody tr th {\n",
       "        vertical-align: top;\n",
       "    }\n",
       "\n",
       "    .dataframe thead th {\n",
       "        text-align: right;\n",
       "    }\n",
       "</style>\n",
       "<table border=\"1\" class=\"dataframe\">\n",
       "  <thead>\n",
       "    <tr style=\"text-align: right;\">\n",
       "      <th></th>\n",
       "      <th>tweet</th>\n",
       "      <th>existence</th>\n",
       "      <th>existence.confidence</th>\n",
       "    </tr>\n",
       "  </thead>\n",
       "  <tbody>\n",
       "    <tr>\n",
       "      <th>0</th>\n",
       "      <td>Global warming report urges governments to act...</td>\n",
       "      <td>1</td>\n",
       "      <td>1.0000</td>\n",
       "    </tr>\n",
       "    <tr>\n",
       "      <th>1</th>\n",
       "      <td>Fighting poverty and global warming in Africa</td>\n",
       "      <td>1</td>\n",
       "      <td>1.0000</td>\n",
       "    </tr>\n",
       "    <tr>\n",
       "      <th>2</th>\n",
       "      <td>Carbon offsets: How a Vatican forest failed to...</td>\n",
       "      <td>1</td>\n",
       "      <td>0.8786</td>\n",
       "    </tr>\n",
       "    <tr>\n",
       "      <th>3</th>\n",
       "      <td>Carbon offsets: How a Vatican forest failed to...</td>\n",
       "      <td>1</td>\n",
       "      <td>1.0000</td>\n",
       "    </tr>\n",
       "    <tr>\n",
       "      <th>4</th>\n",
       "      <td>URUGUAY: Tools Needed for Those Most Vulnerabl...</td>\n",
       "      <td>1</td>\n",
       "      <td>0.8087</td>\n",
       "    </tr>\n",
       "  </tbody>\n",
       "</table>\n",
       "</div>"
      ],
      "text/plain": [
       "                                               tweet  existence  \\\n",
       "0  Global warming report urges governments to act...          1   \n",
       "1     Fighting poverty and global warming in Africa           1   \n",
       "2  Carbon offsets: How a Vatican forest failed to...          1   \n",
       "3  Carbon offsets: How a Vatican forest failed to...          1   \n",
       "4  URUGUAY: Tools Needed for Those Most Vulnerabl...          1   \n",
       "\n",
       "   existence.confidence  \n",
       "0                1.0000  \n",
       "1                1.0000  \n",
       "2                0.8786  \n",
       "3                1.0000  \n",
       "4                0.8087  "
      ]
     },
     "execution_count": 2,
     "metadata": {},
     "output_type": "execute_result"
    }
   ],
   "source": [
    "# Import csv file to a pandas dataframe\n",
    "df_tweets = pd.read_csv('Users/gusnilolaa/data/1377884570_tweet_global_warming.csv', encoding='ISO-8859-1', engine='python')\n",
    "df_tweets.dropna(inplace=True)  # Drop rows with missing values\n",
    "\n",
    "# Replace Yes/Y with 1 and No/N with 0\n",
    "df_tweets['existence'] = df_tweets['existence'].map({'Y': 1, 'Yes': 1, 'N': 0, 'No': 0}).astype(int)\n",
    "\n",
    "# Remove \"[link]\"\" from the tweets\n",
    "df_tweets['tweet'] = df_tweets['tweet'].replace('\\\\[link\\\\]', '', regex=True)\n",
    "\n",
    "# Display the first 5 rows of the dataframe\n",
    "df_tweets.head()"
   ]
  },
  {
   "cell_type": "code",
   "execution_count": 3,
   "metadata": {},
   "outputs": [
    {
     "data": {
      "text/html": [
       "<div>\n",
       "<style scoped>\n",
       "    .dataframe tbody tr th:only-of-type {\n",
       "        vertical-align: middle;\n",
       "    }\n",
       "\n",
       "    .dataframe tbody tr th {\n",
       "        vertical-align: top;\n",
       "    }\n",
       "\n",
       "    .dataframe thead th {\n",
       "        text-align: right;\n",
       "    }\n",
       "</style>\n",
       "<table border=\"1\" class=\"dataframe\">\n",
       "  <thead>\n",
       "    <tr style=\"text-align: right;\">\n",
       "      <th></th>\n",
       "      <th>tweet</th>\n",
       "      <th>existence</th>\n",
       "      <th>existence.confidence</th>\n",
       "    </tr>\n",
       "  </thead>\n",
       "  <tbody>\n",
       "    <tr>\n",
       "      <th>230</th>\n",
       "      <td>Ocean Saltiness Shows Global Warming Is Intens...</td>\n",
       "      <td>1</td>\n",
       "      <td>1.0000</td>\n",
       "    </tr>\n",
       "    <tr>\n",
       "      <th>498</th>\n",
       "      <td>RT @panteraonca07: Slideshow of Alaska Before ...</td>\n",
       "      <td>1</td>\n",
       "      <td>1.0000</td>\n",
       "    </tr>\n",
       "    <tr>\n",
       "      <th>2510</th>\n",
       "      <td>@prismsinc Worlds Greenest Celebrity: Limos, P...</td>\n",
       "      <td>1</td>\n",
       "      <td>0.6499</td>\n",
       "    </tr>\n",
       "    <tr>\n",
       "      <th>5115</th>\n",
       "      <td>FRIDAY AFTERNOON IGNORANCE-OFF: Virginia GOP (...</td>\n",
       "      <td>1</td>\n",
       "      <td>0.6717</td>\n",
       "    </tr>\n",
       "    <tr>\n",
       "      <th>3370</th>\n",
       "      <td>RT @mmfa: Brain Freeze: Conservative media sti...</td>\n",
       "      <td>1</td>\n",
       "      <td>0.6969</td>\n",
       "    </tr>\n",
       "  </tbody>\n",
       "</table>\n",
       "</div>"
      ],
      "text/plain": [
       "                                                  tweet  existence  \\\n",
       "230   Ocean Saltiness Shows Global Warming Is Intens...          1   \n",
       "498   RT @panteraonca07: Slideshow of Alaska Before ...          1   \n",
       "2510  @prismsinc Worlds Greenest Celebrity: Limos, P...          1   \n",
       "5115  FRIDAY AFTERNOON IGNORANCE-OFF: Virginia GOP (...          1   \n",
       "3370  RT @mmfa: Brain Freeze: Conservative media sti...          1   \n",
       "\n",
       "      existence.confidence  \n",
       "230                 1.0000  \n",
       "498                 1.0000  \n",
       "2510                0.6499  \n",
       "5115                0.6717  \n",
       "3370                0.6969  "
      ]
     },
     "execution_count": 3,
     "metadata": {},
     "output_type": "execute_result"
    }
   ],
   "source": [
    "# Split the data randomly into a test and a training set (70/30 % of the observations)\n",
    "# Using random_state as seed for reproducibility\n",
    "train_df, test_df = train_test_split(df_tweets, test_size=0.3, random_state=42)\n",
    "\n",
    "train_df.head()"
   ]
  },
  {
   "cell_type": "markdown",
   "metadata": {},
   "source": [
    "## 2. Fine-tune a BERT model to predict non-climate sceptic language using the Augmented Social Scientist package"
   ]
  },
  {
   "cell_type": "markdown",
   "metadata": {},
   "source": [
    "### a)"
   ]
  },
  {
   "cell_type": "code",
   "execution_count": null,
   "metadata": {},
   "outputs": [],
   "source": [
    "# Define required functions\n",
    "def alpha_only(text):\n",
    "    # Only keep alphabetic characters and spaces\n",
    "    return re.sub(\"[^a-zA-Z\\s]\", \"\", text)\n",
    "\n",
    "# Create a stemmer object\n",
    "stemmer = SnowballStemmer(\"english\")\n",
    "\n",
    "def stem_tokens(tokens):\n",
    "    # Stem the tokens using the Snowball stemmer\n",
    "    return [stemmer.stem(token) for token in tokens]\n",
    "\n",
    "def tokenize(text):\n",
    "    # Tokenize the text and stem the tokens\n",
    "    tokens = text.split()\n",
    "    return stem_tokens(tokens)\n",
    "\n",
    "# Create a TfidfVectorizer object\n",
    "tfidf_vectorizer = TfidfVectorizer(preprocessor=alpha_only, tokenizer=tokenize, stop_words='english')\n",
    "\n",
    "# Convert the training and test set to a matrix of TF-IDF features\n",
    "# Fit and transform the training set\n",
    "X_train_tfidf = tfidf_vectorizer.fit_transform(train_df['tweet'])\n",
    "# Transform is used to ensure that the test set is transformed using the same vectorizer as the training set\n",
    "X_test_tfidf = tfidf_vectorizer.transform(test_df['tweet'])"
   ]
  }
 ],
 "metadata": {
  "kernelspec": {
   "display_name": "islp",
   "language": "python",
   "name": "python3"
  },
  "language_info": {
   "codemirror_mode": {
    "name": "ipython",
    "version": 3
   },
   "file_extension": ".py",
   "mimetype": "text/x-python",
   "name": "python",
   "nbconvert_exporter": "python",
   "pygments_lexer": "ipython3",
   "version": "3.11.7"
  }
 },
 "nbformat": 4,
 "nbformat_minor": 2
}
